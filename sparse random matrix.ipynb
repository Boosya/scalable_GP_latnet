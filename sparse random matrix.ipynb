{
 "cells": [
  {
   "cell_type": "code",
   "execution_count": null,
   "metadata": {
    "collapsed": false
   },
   "outputs": [],
   "source": [
    "rvs = stats.bernoulli(p=0.2).rvs\n",
    "bern = random(N, N, density=0.2, random_state=rs, data_rvs=rvs)\n",
    "bern.A"
   ]
  },
  {
   "cell_type": "code",
   "execution_count": null,
   "metadata": {
    "collapsed": false
   },
   "outputs": [],
   "source": [
    "rvs = stats.poisson(25, loc=10).rvs\n",
    "poisson = random(N, N, density=0.1, random_state=rs, data_rvs=rvs)\n",
    "poisson.A"
   ]
  },
  {
   "cell_type": "code",
   "execution_count": 1,
   "metadata": {
    "collapsed": true
   },
   "outputs": [],
   "source": [
    "from scipy.sparse import random\n",
    "from scipy.sparse import csr_matrix\n",
    "from numpy.linalg import inv as inv\n",
    "from numpy.linalg import norm as norm\n",
    "from scipy import stats\n",
    "import numpy as np\n",
    "import time"
   ]
  },
  {
   "cell_type": "code",
   "execution_count": 2,
   "metadata": {
    "collapsed": true
   },
   "outputs": [],
   "source": [
    "class CustomRandomState(object):\n",
    "    def randint(self, k):\n",
    "        i = np.random.randint(k)\n",
    "        return i - i % 2\n",
    "    "
   ]
  },
  {
   "cell_type": "code",
   "execution_count": 3,
   "metadata": {
    "collapsed": true
   },
   "outputs": [],
   "source": [
    "def check_abs_eignevalues_less_than_1(data):\n",
    "    ''' Checks if abs of max eigenvalue is less than 1 \n",
    "    '''\n",
    "#     make data at each dimesion be centered around mean\n",
    "    data -= data.mean(axis=0)\n",
    "#     get covariance matrix\n",
    "    Sigma = np.cov(data, rowvar=False)\n",
    "#     find eigenvalues\n",
    "    eigvals = np.linalg.eigvals(Sigma)\n",
    "    return max(abs(max(eigvals)),abs(min(eigvals))) < 1"
   ]
  },
  {
   "cell_type": "code",
   "execution_count": 4,
   "metadata": {
    "collapsed": true
   },
   "outputs": [],
   "source": [
    "def vonNeumanApproximation(I,B,n):\n",
    "    '''Returns von Neuman approimation in form I+B+B^2+B^3+..+B^n\n",
    "    '''\n",
    "    result = I\n",
    "    B_power = B\n",
    "    for i in range(1,n):\n",
    "#         add current power of B to result\n",
    "        result += B_power\n",
    "#         increase power of B\n",
    "        B_power = B_power @ B\n",
    "    return result"
   ]
  },
  {
   "cell_type": "code",
   "execution_count": 14,
   "metadata": {
    "collapsed": false
   },
   "outputs": [],
   "source": [
    "rs = CustomRandomState()\n",
    "N = 1000\n",
    "n = 3\n",
    "ro = 0.01"
   ]
  },
  {
   "cell_type": "code",
   "execution_count": 15,
   "metadata": {
    "collapsed": false
   },
   "outputs": [],
   "source": [
    "dense_normal = np.random.normal(loc = 0, scale = 1/(N*ro), size=(N, N))\n",
    "sparse_normal = csr_matrix(dense_normal)"
   ]
  },
  {
   "cell_type": "code",
   "execution_count": 16,
   "metadata": {
    "collapsed": false
   },
   "outputs": [],
   "source": [
    "dense_bernoulli = np.random.binomial(n=1, p=ro, size=(N, N))\n",
    "sparse_bernoulli = csr_matrix(dense_bernoulli)"
   ]
  },
  {
   "cell_type": "code",
   "execution_count": 17,
   "metadata": {
    "collapsed": false
   },
   "outputs": [],
   "source": [
    "B = np.multiply(sparse_normal , sparse_bernoulli)"
   ]
  },
  {
   "cell_type": "code",
   "execution_count": 18,
   "metadata": {
    "collapsed": false
   },
   "outputs": [
    {
     "data": {
      "text/plain": [
       "False"
      ]
     },
     "execution_count": 18,
     "metadata": {},
     "output_type": "execute_result"
    }
   ],
   "source": [
    "check_abs_eignevalues_less_than_1(B)"
   ]
  },
  {
   "cell_type": "code",
   "execution_count": 19,
   "metadata": {
    "collapsed": true
   },
   "outputs": [],
   "source": [
    "I_minus_B = np.identity(N) - B"
   ]
  },
  {
   "cell_type": "code",
   "execution_count": 20,
   "metadata": {
    "collapsed": false
   },
   "outputs": [
    {
     "name": "stdout",
     "output_type": "stream",
     "text": [
      "caluclated invserse in 0.0018797477086385092 mins\n",
      "approximated NEUMAN inverse by 3 approximations\n",
      "caluclated vonneuman in 0.1108344833056132 mins\n",
      "error in neuman approximation in form norm(real_inverse-approx_inverse)\n",
      "3185.6480596726565\n",
      "error in random\n",
      "663.4002418583493\n"
     ]
    }
   ],
   "source": [
    "t1 = time.time()\n",
    "real_inverse = inv(I_minus_B)\n",
    "t2 = time.time()\n",
    "print(\"caluclated invserse in\",(t2-t1)/60,\"mins\")\n",
    "print('approximated NEUMAN inverse by',n,'approximations')\n",
    "neuman_appr = vonNeumanApproximation(np.identity(N), B, n)\n",
    "t3 = time.time()\n",
    "\n",
    "print(\"caluclated vonneuman in\",(t3-t2)/60,\"mins\")\n",
    "\n",
    "print('error in neuman approximation in form norm(real_inverse-approx_inverse)')\n",
    "print(norm(real_inverse - neuman_appr))\n",
    "print('error in random')\n",
    "print(norm(real_inverse - np.random.rand(N,N)))"
   ]
  },
  {
   "cell_type": "code",
   "execution_count": null,
   "metadata": {
    "collapsed": true
   },
   "outputs": [],
   "source": []
  }
 ],
 "metadata": {
  "kernelspec": {
   "display_name": "Python 3",
   "language": "python",
   "name": "python3"
  },
  "language_info": {
   "codemirror_mode": {
    "name": "ipython",
    "version": 3
   },
   "file_extension": ".py",
   "mimetype": "text/x-python",
   "name": "python",
   "nbconvert_exporter": "python",
   "pygments_lexer": "ipython3",
   "version": "3.5.2"
  }
 },
 "nbformat": 4,
 "nbformat_minor": 1
}
